{
 "cells": [
  {
   "cell_type": "code",
   "execution_count": 13,
   "metadata": {},
   "outputs": [],
   "source": [
    "import pandas as pd\n",
    "import matplotlib.pyplot as plt"
   ]
  },
  {
   "cell_type": "code",
   "execution_count": 14,
   "metadata": {},
   "outputs": [],
   "source": [
    "data_bin = pd.read_csv('data/data_processed_bin.csv')"
   ]
  },
  {
   "cell_type": "code",
   "execution_count": 15,
   "metadata": {},
   "outputs": [
    {
     "data": {
      "text/html": [
       "<div>\n",
       "<style scoped>\n",
       "    .dataframe tbody tr th:only-of-type {\n",
       "        vertical-align: middle;\n",
       "    }\n",
       "\n",
       "    .dataframe tbody tr th {\n",
       "        vertical-align: top;\n",
       "    }\n",
       "\n",
       "    .dataframe thead th {\n",
       "        text-align: right;\n",
       "    }\n",
       "</style>\n",
       "<table border=\"1\" class=\"dataframe\">\n",
       "  <thead>\n",
       "    <tr style=\"text-align: right;\">\n",
       "      <th></th>\n",
       "      <th>age</th>\n",
       "      <th>label</th>\n",
       "      <th>sex</th>\n",
       "      <th>weight</th>\n",
       "      <th>height</th>\n",
       "      <th>BMI</th>\n",
       "      <th>centyl</th>\n",
       "      <th>mean_for_age</th>\n",
       "      <th>SD_populacji</th>\n",
       "      <th>Z_score_BMI</th>\n",
       "      <th>...</th>\n",
       "      <th>EPA</th>\n",
       "      <th>C22:2n-6</th>\n",
       "      <th>C22:4n-6</th>\n",
       "      <th>C22:5n-6</th>\n",
       "      <th>C24:0</th>\n",
       "      <th>C24:1n-9</th>\n",
       "      <th>C22:5n-3</th>\n",
       "      <th>DHA</th>\n",
       "      <th>AA/DGLA</th>\n",
       "      <th>DGLA/LA</th>\n",
       "    </tr>\n",
       "  </thead>\n",
       "  <tbody>\n",
       "    <tr>\n",
       "      <th>0</th>\n",
       "      <td>16.282192</td>\n",
       "      <td>0</td>\n",
       "      <td>0</td>\n",
       "      <td>94.5</td>\n",
       "      <td>1.65</td>\n",
       "      <td>34.710744</td>\n",
       "      <td>97.000000</td>\n",
       "      <td>20.790000</td>\n",
       "      <td>2.50000</td>\n",
       "      <td>5.568298</td>\n",
       "      <td>...</td>\n",
       "      <td>0.567</td>\n",
       "      <td>0.112</td>\n",
       "      <td>0.196</td>\n",
       "      <td>0.158</td>\n",
       "      <td>0.151</td>\n",
       "      <td>0.436</td>\n",
       "      <td>1.547</td>\n",
       "      <td>1.68</td>\n",
       "      <td>0.881664</td>\n",
       "      <td>0.226844</td>\n",
       "    </tr>\n",
       "    <tr>\n",
       "      <th>1</th>\n",
       "      <td>13.432877</td>\n",
       "      <td>0</td>\n",
       "      <td>1</td>\n",
       "      <td>67.0</td>\n",
       "      <td>1.60</td>\n",
       "      <td>26.171875</td>\n",
       "      <td>96.000000</td>\n",
       "      <td>19.100000</td>\n",
       "      <td>2.75000</td>\n",
       "      <td>2.571591</td>\n",
       "      <td>...</td>\n",
       "      <td>0.390</td>\n",
       "      <td>0.250</td>\n",
       "      <td>0.280</td>\n",
       "      <td>0.150</td>\n",
       "      <td>0.130</td>\n",
       "      <td>0.670</td>\n",
       "      <td>1.310</td>\n",
       "      <td>2.52</td>\n",
       "      <td>3.193548</td>\n",
       "      <td>0.161374</td>\n",
       "    </tr>\n",
       "    <tr>\n",
       "      <th>2</th>\n",
       "      <td>11.879452</td>\n",
       "      <td>0</td>\n",
       "      <td>1</td>\n",
       "      <td>70.0</td>\n",
       "      <td>1.56</td>\n",
       "      <td>28.763971</td>\n",
       "      <td>79.629032</td>\n",
       "      <td>18.726203</td>\n",
       "      <td>2.72443</td>\n",
       "      <td>0.683691</td>\n",
       "      <td>...</td>\n",
       "      <td>0.950</td>\n",
       "      <td>0.330</td>\n",
       "      <td>0.510</td>\n",
       "      <td>0.130</td>\n",
       "      <td>0.210</td>\n",
       "      <td>0.600</td>\n",
       "      <td>1.710</td>\n",
       "      <td>1.85</td>\n",
       "      <td>2.092457</td>\n",
       "      <td>0.222764</td>\n",
       "    </tr>\n",
       "    <tr>\n",
       "      <th>3</th>\n",
       "      <td>10.904110</td>\n",
       "      <td>0</td>\n",
       "      <td>0</td>\n",
       "      <td>62.0</td>\n",
       "      <td>1.45</td>\n",
       "      <td>29.488704</td>\n",
       "      <td>79.629032</td>\n",
       "      <td>18.726203</td>\n",
       "      <td>2.72443</td>\n",
       "      <td>0.683691</td>\n",
       "      <td>...</td>\n",
       "      <td>0.270</td>\n",
       "      <td>0.240</td>\n",
       "      <td>0.470</td>\n",
       "      <td>0.410</td>\n",
       "      <td>0.250</td>\n",
       "      <td>0.430</td>\n",
       "      <td>1.610</td>\n",
       "      <td>2.23</td>\n",
       "      <td>1.568849</td>\n",
       "      <td>0.243139</td>\n",
       "    </tr>\n",
       "    <tr>\n",
       "      <th>4</th>\n",
       "      <td>18.265753</td>\n",
       "      <td>0</td>\n",
       "      <td>1</td>\n",
       "      <td>79.5</td>\n",
       "      <td>1.72</td>\n",
       "      <td>26.872634</td>\n",
       "      <td>97.000000</td>\n",
       "      <td>21.640000</td>\n",
       "      <td>2.69000</td>\n",
       "      <td>1.945217</td>\n",
       "      <td>...</td>\n",
       "      <td>0.910</td>\n",
       "      <td>0.190</td>\n",
       "      <td>0.300</td>\n",
       "      <td>0.250</td>\n",
       "      <td>0.470</td>\n",
       "      <td>1.050</td>\n",
       "      <td>1.410</td>\n",
       "      <td>2.98</td>\n",
       "      <td>1.467967</td>\n",
       "      <td>0.170871</td>\n",
       "    </tr>\n",
       "  </tbody>\n",
       "</table>\n",
       "<p>5 rows × 107 columns</p>\n",
       "</div>"
      ],
      "text/plain": [
       "         age  label  sex  weight  height        BMI     centyl  mean_for_age  \\\n",
       "0  16.282192      0    0    94.5    1.65  34.710744  97.000000     20.790000   \n",
       "1  13.432877      0    1    67.0    1.60  26.171875  96.000000     19.100000   \n",
       "2  11.879452      0    1    70.0    1.56  28.763971  79.629032     18.726203   \n",
       "3  10.904110      0    0    62.0    1.45  29.488704  79.629032     18.726203   \n",
       "4  18.265753      0    1    79.5    1.72  26.872634  97.000000     21.640000   \n",
       "\n",
       "   SD_populacji  Z_score_BMI  ...    EPA  C22:2n-6  C22:4n-6  C22:5n-6  C24:0  \\\n",
       "0       2.50000     5.568298  ...  0.567     0.112     0.196     0.158  0.151   \n",
       "1       2.75000     2.571591  ...  0.390     0.250     0.280     0.150  0.130   \n",
       "2       2.72443     0.683691  ...  0.950     0.330     0.510     0.130  0.210   \n",
       "3       2.72443     0.683691  ...  0.270     0.240     0.470     0.410  0.250   \n",
       "4       2.69000     1.945217  ...  0.910     0.190     0.300     0.250  0.470   \n",
       "\n",
       "   C24:1n-9  C22:5n-3   DHA   AA/DGLA   DGLA/LA  \n",
       "0     0.436     1.547  1.68  0.881664  0.226844  \n",
       "1     0.670     1.310  2.52  3.193548  0.161374  \n",
       "2     0.600     1.710  1.85  2.092457  0.222764  \n",
       "3     0.430     1.610  2.23  1.568849  0.243139  \n",
       "4     1.050     1.410  2.98  1.467967  0.170871  \n",
       "\n",
       "[5 rows x 107 columns]"
      ]
     },
     "execution_count": 15,
     "metadata": {},
     "output_type": "execute_result"
    }
   ],
   "source": [
    "data_bin.head()"
   ]
  },
  {
   "cell_type": "code",
   "execution_count": 16,
   "metadata": {},
   "outputs": [],
   "source": [
    "from sklearn.model_selection import train_test_split\n",
    "from sklearn.preprocessing import StandardScaler\n",
    "from sklearn.tree import DecisionTreeClassifier\n",
    "from sklearn.metrics import confusion_matrix,classification_report, accuracy_score\n",
    "from sklearn.metrics import RocCurveDisplay\n",
    "from sklearn.ensemble import RandomForestClassifier"
   ]
  },
  {
   "cell_type": "code",
   "execution_count": 17,
   "metadata": {},
   "outputs": [],
   "source": [
    "X = data_bin.drop(columns=['label'])\n",
    "y = data_bin['label']\n",
    "X_train, X_test, y_train, y_test = train_test_split(X, y, test_size=0.1, random_state=71)\n",
    "scaler = StandardScaler()\n",
    "X_train = scaler.fit_transform(X_train)\n",
    "X_test = scaler.transform(X_test)"
   ]
  },
  {
   "cell_type": "code",
   "execution_count": 18,
   "metadata": {},
   "outputs": [
    {
     "data": {
      "text/plain": [
       "(1.0, 30.0)"
      ]
     },
     "execution_count": 18,
     "metadata": {},
     "output_type": "execute_result"
    },
    {
     "data": {
      "image/png": "[encoded data removed]",
      "text/plain": [
       "<Figure size 640x480 with 1 Axes>"
      ]
     },
     "metadata": {},
     "output_type": "display_data"
    }
   ],
   "source": [
    "test_error = []\n",
    "\n",
    "for n in range(1,30):\n",
    "    model = DecisionTreeClassifier(max_depth=n)\n",
    "    model.fit(X_train,y_train)\n",
    "    test_preds = model.predict(X_test)\n",
    "    test_error.append(1-accuracy_score(test_preds,y_test))\n",
    "plt.plot(range(1,30),test_error,label='Test Error')\n",
    "plt.legend()\n",
    "plt.xlim((1,30))"
   ]
  },
  {
   "cell_type": "code",
   "execution_count": 22,
   "metadata": {},
   "outputs": [
    {
     "name": "stdout",
     "output_type": "stream",
     "text": [
      "[[ 7  0]\n",
      " [ 0 21]]\n",
      "              precision    recall  f1-score   support\n",
      "\n",
      "           0       1.00      1.00      1.00         7\n",
      "           1       1.00      1.00      1.00        21\n",
      "\n",
      "    accuracy                           1.00        28\n",
      "   macro avg       1.00      1.00      1.00        28\n",
      "weighted avg       1.00      1.00      1.00        28\n",
      "\n"
     ]
    }
   ],
   "source": [
    "rf_model = RandomForestClassifier(n_estimators=3,max_features='sqrt',random_state=71)\n",
    "rf_model.fit(X_train,y_train)\n",
    "preds = rf_model.predict(X_test)\n",
    "print(confusion_matrix(y_test,preds))\n",
    "print(classification_report(y_test,preds))"
   ]
  },
  {
   "cell_type": "code",
   "execution_count": 20,
   "metadata": {},
   "outputs": [
    {
     "name": "stdout",
     "output_type": "stream",
     "text": [
      "[[ 7  0]\n",
      " [ 2 19]]\n",
      "              precision    recall  f1-score   support\n",
      "\n",
      "           0       0.78      1.00      0.88         7\n",
      "           1       1.00      0.90      0.95        21\n",
      "\n",
      "    accuracy                           0.93        28\n",
      "   macro avg       0.89      0.95      0.91        28\n",
      "weighted avg       0.94      0.93      0.93        28\n",
      "\n"
     ]
    }
   ],
   "source": [
    "dt_model = DecisionTreeClassifier(max_depth=6)\n",
    "dt_model.fit(X_train,y_train)\n",
    "preds = dt_model.predict(X_test)\n",
    "print(confusion_matrix(y_test,preds))\n",
    "print(classification_report(y_test,preds))"
   ]
  },
  {
   "cell_type": "code",
   "execution_count": 23,
   "metadata": {},
   "outputs": [
    {
     "data": {
      "text/plain": [
       "<sklearn.metrics._plot.roc_curve.RocCurveDisplay at 0x1fc81ef9c30>"
      ]
     },
     "execution_count": 23,
     "metadata": {},
     "output_type": "execute_result"
    },
    {
     "data": {
      "image/png": "[encoded data removed]",
      "text/plain": [
       "<Figure size 640x480 with 1 Axes>"
      ]
     },
     "metadata": {},
     "output_type": "display_data"
    }
   ],
   "source": [
    "RocCurveDisplay.from_predictions(y_test, preds)"
   ]
  },
  {
   "cell_type": "code",
   "execution_count": 31,
   "metadata": {},
   "outputs": [
    {
     "data": {
      "text/html": [
       "<div>\n",
       "<style scoped>\n",
       "    .dataframe tbody tr th:only-of-type {\n",
       "        vertical-align: middle;\n",
       "    }\n",
       "\n",
       "    .dataframe tbody tr th {\n",
       "        vertical-align: top;\n",
       "    }\n",
       "\n",
       "    .dataframe thead th {\n",
       "        text-align: right;\n",
       "    }\n",
       "</style>\n",
       "<table border=\"1\" class=\"dataframe\">\n",
       "  <thead>\n",
       "    <tr style=\"text-align: right;\">\n",
       "      <th></th>\n",
       "      <th>Feature Importance</th>\n",
       "    </tr>\n",
       "  </thead>\n",
       "  <tbody>\n",
       "    <tr>\n",
       "      <th>ALT</th>\n",
       "      <td>0.835602</td>\n",
       "    </tr>\n",
       "    <tr>\n",
       "      <th>DGLA</th>\n",
       "      <td>0.065329</td>\n",
       "    </tr>\n",
       "    <tr>\n",
       "      <th>Płytki krwi</th>\n",
       "      <td>0.050311</td>\n",
       "    </tr>\n",
       "    <tr>\n",
       "      <th>C14:1</th>\n",
       "      <td>0.017209</td>\n",
       "    </tr>\n",
       "    <tr>\n",
       "      <th>beta-karoten</th>\n",
       "      <td>0.017115</td>\n",
       "    </tr>\n",
       "    <tr>\n",
       "      <th>...</th>\n",
       "      <td>...</td>\n",
       "    </tr>\n",
       "    <tr>\n",
       "      <th>HOMA IR</th>\n",
       "      <td>0.000000</td>\n",
       "    </tr>\n",
       "    <tr>\n",
       "      <th>glukoza 0</th>\n",
       "      <td>0.000000</td>\n",
       "    </tr>\n",
       "    <tr>\n",
       "      <th>insulina 0</th>\n",
       "      <td>0.000000</td>\n",
       "    </tr>\n",
       "    <tr>\n",
       "      <th>proinsulina</th>\n",
       "      <td>0.000000</td>\n",
       "    </tr>\n",
       "    <tr>\n",
       "      <th>DGLA/LA</th>\n",
       "      <td>0.000000</td>\n",
       "    </tr>\n",
       "  </tbody>\n",
       "</table>\n",
       "<p>106 rows × 1 columns</p>\n",
       "</div>"
      ],
      "text/plain": [
       "              Feature Importance\n",
       "ALT                     0.835602\n",
       "DGLA                    0.065329\n",
       "Płytki krwi             0.050311\n",
       "C14:1                   0.017209\n",
       "beta-karoten            0.017115\n",
       "...                          ...\n",
       "HOMA IR                 0.000000\n",
       "glukoza 0               0.000000\n",
       "insulina 0              0.000000\n",
       "proinsulina             0.000000\n",
       "DGLA/LA                 0.000000\n",
       "\n",
       "[106 rows x 1 columns]"
      ]
     },
     "execution_count": 31,
     "metadata": {},
     "output_type": "execute_result"
    }
   ],
   "source": [
    "pd.DataFrame(index=X.columns,data=dt_model.feature_importances_,columns=['Feature Importance']).sort_values(by='Feature Importance', ascending=False)"
   ]
  },
  {
   "cell_type": "code",
   "execution_count": 1,
   "metadata": {},
   "outputs": [
    {
     "name": "stdout",
     "output_type": "stream",
     "text": [
      "lol1/\n",
      "giga dziwne\n"
     ]
    }
   ],
   "source": [
    "print('lol1/')\n",
    "print('giga dziwne')"
   ]
  },
  {
   "cell_type": "code",
   "execution_count": null,
   "metadata": {},
   "outputs": [],
   "source": []
  }
 ],
 "metadata": {
  "kernelspec": {
   "display_name": "Python 3",
   "language": "python",
   "name": "python3"
  },
  "language_info": {
   "codemirror_mode": {
    "name": "ipython",
    "version": 3
   },
   "file_extension": ".py",
   "mimetype": "text/x-python",
   "name": "python",
   "nbconvert_exporter": "python",
   "pygments_lexer": "ipython3",
   "version": "3.10.13"
  }
 },
 "nbformat": 4,
 "nbformat_minor": 2
}
